{
 "cells": [
  {
   "cell_type": "code",
   "execution_count": 5,
   "id": "e46389f7",
   "metadata": {},
   "outputs": [],
   "source": [
    "import optuna\n",
    "from optuna.visualization import plot_contour\n",
    "from optuna.visualization import plot_edf\n",
    "from optuna.visualization import plot_intermediate_values\n",
    "from optuna.visualization import plot_optimization_history\n",
    "from optuna.visualization import plot_parallel_coordinate\n",
    "from optuna.visualization import plot_param_importances\n",
    "from optuna.visualization import plot_slice\n",
    "import numpy as np\n",
    "import joblib"
   ]
  },
  {
   "cell_type": "code",
   "execution_count": 2,
   "id": "6a7ea7ba",
   "metadata": {},
   "outputs": [],
   "source": [
    "SEED = 42"
   ]
  },
  {
   "cell_type": "code",
   "execution_count": 3,
   "id": "49be5f41",
   "metadata": {},
   "outputs": [],
   "source": [
    "from main import Experiment, Data"
   ]
  },
  {
   "cell_type": "code",
   "execution_count": 4,
   "id": "414663cc",
   "metadata": {},
   "outputs": [],
   "source": [
    "def objective(trial):\n",
    "\n",
    "    \n",
    "#     data, target = sklearn.datasets.load_breast_cancer(return_X_y=True)\n",
    "#     train_x, valid_x, train_y, valid_y = train_test_split(data, target, test_size=0.25)\n",
    "#     dtrain = lgb.Dataset(train_x, label=train_y)\n",
    "#     dvalid = lgb.Dataset(valid_x, label=valid_y)\n",
    "\n",
    "    params = {\n",
    "        \"num_iterations\": 20,\n",
    "        \"batch_size\": 128,\n",
    "        \"lr\": trial.suggest_float(\"lr\", 0.0001,  0.005),\n",
    "        \"dr\": 1.0,\n",
    "        'cuda': True,\n",
    "        'input_dropout': trial.suggest_float(\"input_dropout\", 0., 1.0),\n",
    "        'hidden_dropout1': trial.suggest_float(\"hidden_dropout1\", 0., 1.0),\n",
    "        'hidden_dropout2': trial.suggest_float(\"hidden_dropout2\", 0., 1.0),\n",
    "        'label_smoothing': trial.suggest_float(\"label_smoothing\", 0., 1.0),\n",
    "        'edim': trial.suggest_int(\"edim\", 20, 300),\n",
    "        'rdim': trial.suggest_int(\"rdim\", 20, 300),\n",
    "    }\n",
    "    \n",
    "    dataset = 'WN18RR'\n",
    "    data_dir = \"data/%s/\" % dataset\n",
    "    torch.backends.cudnn.deterministic = True \n",
    "    seed = 20\n",
    "    np.random.seed(seed)\n",
    "    torch.manual_seed(seed)\n",
    "    if torch.cuda.is_available:\n",
    "        torch.cuda.manual_seed_all(seed) \n",
    "    d = Data(data_dir=data_dir, reverse=True)\n",
    "    \n",
    "    experiment = Experiment(num_iterations=params['num_iterations'], batch_size=params['batch_size'], learning_rate=params['lr'], \n",
    "                            decay_rate=params['dr'], ent_vec_dim=params['edim'], rel_vec_dim=params['rdim'], cuda=param['cuda'],\n",
    "                            input_dropout=params['input_dropout'], hidden_dropout1=params['hidden_dropout1'], \n",
    "                            hidden_dropout2=params['hidden_dropout2'], label_smoothing=params['label_smoothing'])\n",
    "    \n",
    "    accuracy = experiment.train_and_eval(d=d, return_value=True)\n",
    "    \n",
    "    return accuracy"
   ]
  },
  {
   "cell_type": "code",
   "execution_count": null,
   "id": "c1ab3b77",
   "metadata": {},
   "outputs": [],
   "source": [
    "study = optuna.create_study(\n",
    "    direction=\"maximize\",\n",
    "    sampler=optuna.samplers.TPESampler(seed=SEED),\n",
    "#     pruner=optuna.pruners.MedianPruner(n_warmup_steps=10),\n",
    ")\n",
    "study.optimize(objective, n_trials=50)"
   ]
  },
  {
   "cell_type": "code",
   "execution_count": null,
   "id": "b155797f",
   "metadata": {},
   "outputs": [],
   "source": [
    "joblib.dump(study, \"study.pkl\")"
   ]
  }
 ],
 "metadata": {
  "kernelspec": {
   "display_name": "Python 3 (ipykernel)",
   "language": "python",
   "name": "python3"
  },
  "language_info": {
   "codemirror_mode": {
    "name": "ipython",
    "version": 3
   },
   "file_extension": ".py",
   "mimetype": "text/x-python",
   "name": "python",
   "nbconvert_exporter": "python",
   "pygments_lexer": "ipython3",
   "version": "3.9.6"
  }
 },
 "nbformat": 4,
 "nbformat_minor": 5
}
